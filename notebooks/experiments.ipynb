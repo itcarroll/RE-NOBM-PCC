{
 "cells": [
  {
   "cell_type": "markdown",
   "id": "3604e175-6abc-4b4c-a0b5-b9a300aee722",
   "metadata": {},
   "source": [
    "# Plots"
   ]
  },
  {
   "cell_type": "code",
   "execution_count": null,
   "id": "1f12aeb3-7c04-49f3-805e-b3d1035833cc",
   "metadata": {},
   "outputs": [],
   "source": [
    "import json\n",
    "\n",
    "from dvc.api import DVCFileSystem\n",
    "import pandas as pd\n",
    "import hvplot.xarray\n",
    "import holoviews as hv\n",
    "import xarray as xr\n",
    "\n",
    "from re_nobm_pcc.kit import TAXA\n",
    "\n",
    "hv.extension('bokeh', logo=False)"
   ]
  },
  {
   "cell_type": "code",
   "execution_count": null,
   "id": "dd28f8b3-68e7-492b-887e-d9d78bbe093e",
   "metadata": {},
   "outputs": [],
   "source": [
    "import warnings\n",
    "warnings.simplefilter(action='ignore', category=FutureWarning)"
   ]
  },
  {
   "cell_type": "code",
   "execution_count": null,
   "id": "da776323-20f7-4739-979b-d7b318c3686c",
   "metadata": {},
   "outputs": [],
   "source": [
    "experiments = [\n",
    "    'exp-0d139', # cnn f/32/p > ? > ?, 7996 parameters, swish, weighted loss\n",
    "    'exp-e7486', # mnn 32 > 64, 19236 parameters, swish, weighted loss\n",
    "    'exp-d1c73', # linear regression, weighted loss\n",
    "]\n",
    "\n",
    "weights = xr.DataArray(\n",
    "    data=[55.77425765991211, 49.406314849853516, 49.0872688293457, 10.0181884765625],\n",
    "    coords=[('group', TAXA)],\n",
    ")\n",
    "weights_on = ['ME', 'MAE', 'RMSE']\n",
    "\n",
    "metrics = {}\n",
    "for item in experiments:\n",
    "    fs = DVCFileSystem('.', rev=item)\n",
    "    with fs.open('data/metrics.json') as stream:\n",
    "        metrics[item] = json.load(stream)\n",
    "metrics = (\n",
    "    pd.DataFrame([\n",
    "        pd.Series(v.values(), index=v, name=k) for k, v in metrics.items()\n",
    "    ])\n",
    "    .transpose()\n",
    "    .drop('loss')\n",
    ")\n",
    "metrics.index = pd.MultiIndex.from_tuples(\n",
    "    (\n",
    "        tuple(i[1:]) for i in metrics.index.str.split('_')\n",
    "    )\n",
    ")\n",
    "metrics.index = metrics.index.rename(('group', 'metric'))\n",
    "metrics = metrics.to_xarray()\n",
    "metrics.loc[{'metric': weights_on}] = metrics.loc[{'metric': weights_on}] * weights\n",
    "metrics = metrics.loc[{'metric': weights_on + ['R2']}]"
   ]
  },
  {
   "cell_type": "code",
   "execution_count": null,
   "id": "a3a7e971-7a28-486f-a390-3381b87016d1",
   "metadata": {},
   "outputs": [],
   "source": [
    "(\n",
    "    metrics\n",
    "    .hvplot\n",
    "    .bar('metric', groupby='group', xlabel='')\n",
    "    .options('Bars', xrotation=45, frame_width=400, fontscale=1.2)\n",
    "    .layout().cols(2)\n",
    "    .options('NdLayout', shared_axes=False)\n",
    ")"
   ]
  },
  {
   "cell_type": "markdown",
   "id": "ebdf79aa-cc24-41ba-8abb-989cc918567b",
   "metadata": {},
   "source": [
    "# Notes"
   ]
  },
  {
   "cell_type": "markdown",
   "id": "9b51c1ce-5080-4fe5-9a9e-7a05375d0316",
   "metadata": {},
   "source": [
    "## 47d9c52f (merge dev into cnn)"
   ]
  },
  {
   "cell_type": "markdown",
   "id": "a78637df-4ba0-4a75-b83c-28ec0f34ac58",
   "metadata": {
    "tags": []
   },
   "source": [
    "### exp-19f79"
   ]
  },
  {
   "cell_type": "markdown",
   "id": "07c3eda2-e98f-43ad-a1fe-787caa69ba6f",
   "metadata": {},
   "source": [
    "- cnn with 3 layers (8, 16, 32 filters)\n",
    "- swish\n",
    "- 3,284 params\n",
    "\n",
    "- cya stuck at zero"
   ]
  },
  {
   "cell_type": "raw",
   "id": "7cd97f43-1942-4c21-99e6-fd7e50694c79",
   "metadata": {},
   "source": [
    "'Test loss: 2.906240701675415'\n",
    "loss\tAUC\tME\tMAE\tRMSE\tR2\n",
    "chl\t0.012148\tNaN\t-0.004036\t0.012148\t0.042415\t0.437520\n",
    "coc\t0.019029\tNaN\t-0.005862\t0.019029\t0.048158\t0.101442\n",
    "cya\t0.020666\tNaN\t-0.020666\t0.020666\t0.036025\t-0.490467\n",
    "dia\t0.027364\tNaN\t0.002353\t0.027364\t0.062000\t0.814033"
   ]
  },
  {
   "cell_type": "markdown",
   "id": "0df04587-331a-4d6d-b417-9cc63da36df0",
   "metadata": {
    "jp-MarkdownHeadingCollapsed": true,
    "tags": []
   },
   "source": [
    "### exp-c9fa5"
   ]
  },
  {
   "cell_type": "markdown",
   "id": "de86c12e-aabf-4eb9-873a-a7ef4b324efc",
   "metadata": {},
   "source": [
    "- cnn with 3 layers (4, 8, 16 filters)\n",
    "- 1,180 params\n",
    "- swish\n",
    "\n",
    "- chl and coc have noisy val_loss\n",
    "- cya got stuck at zeros"
   ]
  },
  {
   "cell_type": "raw",
   "id": "f6caffcf-ee4c-4f44-9fd7-d08dea9a78f1",
   "metadata": {},
   "source": [
    "'Test loss: 2.9124202728271484'\n",
    "loss\tAUC\tME\tMAE\tRMSE\tR2\n",
    "chl\t0.011597\tNaN\t-0.006417\t0.011597\t0.039975\t0.500376\n",
    "coc\t0.019766\tNaN\t-0.003106\t0.019766\t0.048758\t0.078908\n",
    "cya\t0.020665\tNaN\t-0.020663\t0.020665\t0.036022\t-0.490211\n",
    "dia\t0.027414\tNaN\t-0.004076\t0.027414\t0.061976\t0.814178"
   ]
  },
  {
   "cell_type": "markdown",
   "id": "1a134eb6-7b9f-412b-bc30-c3276d390193",
   "metadata": {},
   "source": [
    "## 60b305ad (loss by group)"
   ]
  },
  {
   "cell_type": "markdown",
   "id": "891c1bec-c49f-43d2-ae23-481cea9eb4b0",
   "metadata": {},
   "source": [
    "### exp-09501"
   ]
  },
  {
   "cell_type": "markdown",
   "id": "495f5424-b315-4828-9cb1-121c7ea763fc",
   "metadata": {},
   "source": [
    "- mnn with 2 narrowing layers (56, 24)\n",
    "- 30,980 params\n",
    "- swish\n",
    "\n",
    "looks nice"
   ]
  },
  {
   "cell_type": "raw",
   "id": "4d971f2a-96f0-4821-9b42-66f504cad918",
   "metadata": {},
   "source": [
    "'Test loss: 2.213247299194336'\n",
    "loss\tAUC\tME\tMAE\tRMSE\tR2\n",
    "chl\t0.011035\tNaN\t-0.004069\t0.011035\t0.043677\t0.403546\n",
    "coc\t0.017221\tNaN\t-0.003758\t0.017221\t0.045836\t0.186014\n",
    "cya\t0.009940\tNaN\t-0.005198\t0.009940\t0.021895\t0.449416\n",
    "dia\t0.025857\tNaN\t-0.002382\t0.025857\t0.060703\t0.821731"
   ]
  },
  {
   "cell_type": "markdown",
   "id": "02a7cdb2-14ef-4ecb-b5f0-d6be1e7db889",
   "metadata": {},
   "source": [
    "### exp-e7486"
   ]
  },
  {
   "cell_type": "markdown",
   "id": "360cbd36-b721-4c6e-af6e-a075520b479a",
   "metadata": {},
   "source": [
    "- mnn with 2 widening layers (32, 64)\n",
    "- 19,236 params\n",
    "- swish"
   ]
  },
  {
   "cell_type": "raw",
   "id": "8770b570-def4-455b-860b-6e90fa6d1b59",
   "metadata": {},
   "source": [
    "'Test loss: 2.198610544204712'\n",
    "loss\tAUC\tME\tMAE\tRMSE\tR2\n",
    "chl\t0.010630\tNaN\t-0.004393\t0.010630\t0.037945\t0.549840\n",
    "coc\t0.017528\tNaN\t-0.002499\t0.017528\t0.045617\t0.193757\n",
    "cya\t0.009878\tNaN\t-0.004278\t0.009878\t0.021929\t0.447715\n",
    "dia\t0.025439\tNaN\t-0.004534\t0.025439\t0.060447\t0.823233"
   ]
  },
  {
   "cell_type": "markdown",
   "id": "79097aa9-65eb-4781-bcde-7968d7f78adc",
   "metadata": {},
   "source": [
    "### exp-e1687, exp-d1c73"
   ]
  },
  {
   "cell_type": "markdown",
   "id": "c5458597-aaf2-4241-894b-c1ffed3ac5dc",
   "metadata": {},
   "source": [
    "- linear regression\n",
    "- ran twice"
   ]
  },
  {
   "cell_type": "raw",
   "id": "4ae7f35f-6f6b-424a-a49b-ab628326f854",
   "metadata": {},
   "source": [
    "'Test loss: 2.7233831882476807'\n",
    "loss\tAUC\tME\tMAE\tRMSE\tR2\n",
    "chl\t0.014333\tNaN\t-0.004640\t0.014333\t0.052574\t0.135829\n",
    "coc\t0.020903\tNaN\t-0.005055\t0.020903\t0.053047\t-0.090282\n",
    "cya\t0.011180\tNaN\t-0.006010\t0.011180\t0.023711\t0.354345\n",
    "dia\t0.034176\tNaN\t-0.003106\t0.034176\t0.072351\t0.746753"
   ]
  },
  {
   "cell_type": "raw",
   "id": "1c4d9eca-e1bb-4746-abfe-23f0ab028440",
   "metadata": {},
   "source": [
    "'Test loss: 2.642101287841797'\n",
    "loss\tAUC\tME\tMAE\tRMSE\tR2\n",
    "chl\t0.013247\tNaN\t-0.008834\t0.013247\t0.045224\t0.360559\n",
    "coc\t0.020142\tNaN\t-0.006644\t0.020142\t0.051897\t-0.043503\n",
    "cya\t0.011472\tNaN\t-0.005772\t0.011472\t0.024190\t0.327991\n",
    "dia\t0.034432\tNaN\t-0.006163\t0.034432\t0.072229\t0.747604"
   ]
  },
  {
   "cell_type": "markdown",
   "id": "3d8fbb08-79ff-4e55-83da-ad7b8db2e9c6",
   "metadata": {
    "jp-MarkdownHeadingCollapsed": true,
    "tags": []
   },
   "source": [
    "### exp-6cc07"
   ]
  },
  {
   "cell_type": "markdown",
   "id": "73f22ddf-e3c4-4cee-aee8-7830c4769a7a",
   "metadata": {},
   "source": [
    "- cnn with 3 layers (4, 16, 32 filters)\n",
    "- 4,100 params\n",
    "- swish\n",
    "\n",
    "- cya stuck at zero"
   ]
  },
  {
   "cell_type": "raw",
   "id": "636a9c22-8b79-4512-8e21-669da9a82ec7",
   "metadata": {},
   "source": [
    "'Test loss: 3.0120980739593506'\n",
    "loss\tAUC\tME\tMAE\tRMSE\tR2\n",
    "chl\t0.011793\tNaN\t-0.006666\t0.011793\t0.041870\t0.451877\n",
    "coc\t0.020625\tNaN\t-0.001592\t0.020625\t0.049482\t0.051330\n",
    "cya\t0.020665\tNaN\t-0.020665\t0.020665\t0.036021\t-0.490113\n",
    "dia\t0.032035\tNaN\t0.010783\t0.032035\t0.067541\t0.779308"
   ]
  },
  {
   "cell_type": "markdown",
   "id": "3d82d1d6-bcf9-4d71-925f-eece071d3c08",
   "metadata": {
    "jp-MarkdownHeadingCollapsed": true,
    "tags": []
   },
   "source": [
    "### exp-7f142"
   ]
  },
  {
   "cell_type": "markdown",
   "id": "7f5dd85d-e96b-46db-a25b-84630ecf604b",
   "metadata": {},
   "source": [
    "- mnn with 2 narrowing layers (32, 16)\n",
    "- 17,460 params"
   ]
  },
  {
   "cell_type": "raw",
   "id": "38067b94-7b9f-43fe-839e-b95935804d0e",
   "metadata": {},
   "source": [
    "'Test loss: 2.2939674854278564'\n",
    "loss\tAUC\tME\tMAE\tRMSE\tR2\n",
    "chl\t0.010785\tNaN\t-0.005093\t0.010785\t0.037641\t0.557021\n",
    "coc\t0.018536\tNaN\t-0.000353\t0.018536\t0.057101\t-0.263286\n",
    "cya\t0.009981\tNaN\t-0.005283\t0.009981\t0.022170\t0.435505\n",
    "dia\t0.028615\tNaN\t-0.006390\t0.028615\t0.067141\t0.781912"
   ]
  },
  {
   "cell_type": "markdown",
   "id": "fa590451-a196-4c9f-9a7f-dbdc01ba0bca",
   "metadata": {
    "tags": []
   },
   "source": [
    "## 0a097ce8f (restore convolutions)"
   ]
  },
  {
   "cell_type": "markdown",
   "id": "f74ae221-3922-4f21-afae-075a72d0cd31",
   "metadata": {},
   "source": [
    "- weights MAE by mean (train) abundance"
   ]
  },
  {
   "cell_type": "markdown",
   "id": "397c92b4-6b4a-4e8d-ab07-d809ad996e6a",
   "metadata": {},
   "source": [
    "### exp-0d139"
   ]
  },
  {
   "cell_type": "markdown",
   "id": "726a255f-3f0e-4fed-b59d-b2ce7d1b0a97",
   "metadata": {},
   "source": [
    "- cnn with 3 layers narrowing from 32 filter\n",
    "- swish\n",
    "- 7,996 parameters"
   ]
  },
  {
   "cell_type": "raw",
   "id": "78ca8d17-b0fc-496b-a9f5-ddab1f3aa21c",
   "metadata": {},
   "source": [
    "'Test loss: 2.3489720821380615'\n",
    "loss\tAUC\tME\tMAE\tRMSE\tR2\n",
    "chl\t0.010822\tNaN\t-0.003861\t0.010822\t0.038912\t0.526598\n",
    "coc\t0.019944\tNaN\t-0.000234\t0.019944\t0.048672\t0.082169\n",
    "cya\t0.010213\tNaN\t-0.005858\t0.010213\t0.022291\t0.429350\n",
    "dia\t0.025824\tNaN\t-0.001769\t0.025824\t0.074518\t0.731353"
   ]
  },
  {
   "cell_type": "markdown",
   "id": "c3607d0f-2efe-425f-a6c9-4d70d28dd9c3",
   "metadata": {},
   "source": [
    "### exp-b0694"
   ]
  },
  {
   "cell_type": "markdown",
   "id": "86ab72b2-ec2c-4e44-b66f-8a65a00fc822",
   "metadata": {},
   "source": [
    "- cnn with 3 layers (8 outputs, window shrinking from 7)\n",
    "- 5,364 trainable parameters\n",
    "- swish activation\n",
    "- coc looks better, but isn't by R2"
   ]
  },
  {
   "cell_type": "raw",
   "id": "8e85690f-68fb-4239-b7b7-fce806da5748",
   "metadata": {},
   "source": [
    "'Test loss: 2.308502435684204'\n",
    "loss\tAUC\tME\tMAE\tRMSE\tR2\n",
    "chl\t0.010930\tNaN\t-0.004999\t0.010930\t0.036770\t0.577287\n",
    "coc\t0.018837\tNaN\t-0.003468\t0.018837\t0.048391\t0.092723\n",
    "cya\t0.010252\tNaN\t-0.005543\t0.010252\t0.022674\t0.409574\n",
    "dia\t0.026448\tNaN\t-0.007138\t0.026448\t0.060378\t0.823636"
   ]
  },
  {
   "cell_type": "markdown",
   "id": "1b32aa6b-e58a-4c2c-b695-f4ebd28eba76",
   "metadata": {
    "jp-MarkdownHeadingCollapsed": true,
    "tags": []
   },
   "source": [
    "### exp-11c7f"
   ]
  },
  {
   "cell_type": "markdown",
   "id": "39d7024d-e3dd-4728-9505-d063655f5a47",
   "metadata": {},
   "source": [
    "- cnn with 2 layers widenning from 8 filters\n",
    "- swish\n",
    "- ends with dense 64 layer\n",
    "- 70,788 params"
   ]
  },
  {
   "cell_type": "raw",
   "id": "cfd5a922-e6ad-4c99-b43b-b9ea3bcd8e24",
   "metadata": {},
   "source": [
    "'Test loss: 2.409071207046509'\n",
    "loss\tAUC\tME\tMAE\tRMSE\tR2\n",
    "chl\t0.011292\tNaN\t-0.005758\t0.011292\t0.038708\t0.531540\n",
    "coc\t0.019843\tNaN\t-0.003123\t0.019843\t0.163190\t-9.318094\n",
    "cya\t0.010637\tNaN\t-0.006799\t0.010637\t0.024084\t0.333817\n",
    "dia\t0.027631\tNaN\t-0.002807\t0.027631\t0.073848\t0.736166"
   ]
  },
  {
   "cell_type": "markdown",
   "id": "7b43ddea-0c86-4a42-bc84-835a257162d7",
   "metadata": {
    "jp-MarkdownHeadingCollapsed": true,
    "tags": []
   },
   "source": [
    "### exp-d1e2b"
   ]
  },
  {
   "cell_type": "markdown",
   "id": "47ee0372-9f17-4e72-a54b-f940b6e967a5",
   "metadata": {},
   "source": [
    "- cnn with 1 layer, 8 filters\n",
    "- then a dense 64 layer\n",
    "- swish\n",
    "- 89,444 params"
   ]
  },
  {
   "cell_type": "raw",
   "id": "f5f045ab-1dbb-4726-a8d7-16e8d6a79294",
   "metadata": {},
   "source": [
    "'Test loss: 2.5086543560028076'\n",
    "loss\tAUC\tME\tMAE\tRMSE\tR2\n",
    "chl\t0.011539\tNaN\t-0.005268\t0.011539\t0.039064\t0.522902\n",
    "coc\t0.020880\tNaN\t-0.003335\t0.020880\t0.157827\t-8.651020\n",
    "cya\t0.010925\tNaN\t-0.007232\t0.010925\t0.024605\t0.304697\n",
    "dia\t0.029665\tNaN\t0.002033\t0.029665\t0.064299\t0.799986"
   ]
  },
  {
   "cell_type": "markdown",
   "id": "882309a1-ef1b-4784-a6ad-d1c8009b0abe",
   "metadata": {
    "jp-MarkdownHeadingCollapsed": true,
    "tags": []
   },
   "source": [
    "### exp-ac07d"
   ]
  },
  {
   "cell_type": "markdown",
   "id": "47b60d50-653c-40cf-be84-ef1b533e2664",
   "metadata": {},
   "source": [
    "- cnn with 1 conv layer having 8 outputs\n",
    "- 1 dense layer with 32 nodes\n",
    "- 44k trainable parameters\n",
    "- terrible"
   ]
  },
  {
   "cell_type": "raw",
   "id": "d318d0f1-f2e2-4bd4-a471-33697129a853",
   "metadata": {},
   "source": [
    "'Test loss: 2.9868886470794678'\n",
    "loss\tAUC\tME\tMAE\tRMSE\tR2\n",
    "chl\t0.012142\tNaN\t-0.001109\t0.012142\t0.041105\t0.471733\n",
    "coc\t0.020217\tNaN\t-0.001239\t0.020217\t0.048685\t0.081661\n",
    "cya\t0.020665\tNaN\t-0.020664\t0.020665\t0.036022\t-0.490265\n",
    "dia\t0.029588\tNaN\t0.001345\t0.029588\t0.547218\t-13.486889"
   ]
  },
  {
   "cell_type": "markdown",
   "id": "286e56b8-cf8d-4601-b81c-1dcdeb75513d",
   "metadata": {
    "jp-MarkdownHeadingCollapsed": true,
    "tags": []
   },
   "source": [
    "### exp-33f53"
   ]
  },
  {
   "cell_type": "markdown",
   "id": "5d55943b-e4b8-435a-aca1-1702ca3608aa",
   "metadata": {},
   "source": [
    "- cnn with 1 conv layer having 8 outputs\n",
    "- 1 dense layer with 16 nodes\n",
    "- 22k trainable parameters"
   ]
  },
  {
   "cell_type": "raw",
   "id": "00aaa4c9-5c07-479a-991a-4869358a8107",
   "metadata": {},
   "source": [
    "'Test loss: 2.5226738452911377'\n",
    "loss\tAUC\tME\tMAE\tRMSE\tR2\n",
    "chl\t0.011403\tNaN\t-0.004773\t0.011403\t0.038800\t0.529320\n",
    "coc\t0.021783\tNaN\t0.001537\t0.021783\t0.051808\t-0.039930\n",
    "cya\t0.010736\tNaN\t-0.006954\t0.010736\t0.023949\t0.341291\n",
    "dia\t0.028295\tNaN\t-0.008302\t0.028295\t0.063815\t0.802986"
   ]
  },
  {
   "cell_type": "markdown",
   "id": "206d84c0-88e3-4837-b19e-1b113dde50a6",
   "metadata": {
    "jp-MarkdownHeadingCollapsed": true,
    "tags": []
   },
   "source": [
    "### exp-b3f84"
   ]
  },
  {
   "cell_type": "markdown",
   "id": "725b261b-a381-4437-a118-a9b5ffcaefa1",
   "metadata": {},
   "source": [
    "- cnn with 3 layers decreasing in bands (from 16)\n",
    "- 1 dense layer with 32 nodes\n",
    "- 3,344 trainable parameters\n",
    "- val_loss went bad, overfitting, but seems odd with this few parameters"
   ]
  },
  {
   "cell_type": "raw",
   "id": "c95b33cd-9017-49af-9b66-52d2803961f3",
   "metadata": {},
   "source": [
    "'Test loss: 2.971609592437744'\n",
    "loss\tAUC\tME\tMAE\tRMSE\tR2\n",
    "chl\t0.010975\tNaN\t-0.004861\t0.010975\t0.038292\t0.541571\n",
    "coc\t0.021676\tNaN\t0.002031\t0.021676\t0.050321\t0.018906\n",
    "cya\t0.020666\tNaN\t-0.020666\t0.020666\t0.036025\t-0.490510\n",
    "dia\t0.027362\tNaN\t-0.002998\t0.027362\t0.062903\t0.808578"
   ]
  },
  {
   "cell_type": "markdown",
   "id": "4f2b37c3-f14f-4ea5-a25c-b9d3155f2ad2",
   "metadata": {
    "jp-MarkdownHeadingCollapsed": true,
    "tags": []
   },
   "source": [
    "### exp-72218"
   ]
  },
  {
   "cell_type": "markdown",
   "id": "0a82f17c-d6f0-45db-8f1c-7b07b2c1e095",
   "metadata": {},
   "source": [
    "- widening cnn (only 9k params) with swish activations\n",
    "- poor performance except for diatoms"
   ]
  },
  {
   "cell_type": "raw",
   "id": "944f211a-0321-4c61-9ebf-04a9705649b3",
   "metadata": {},
   "source": [
    "'Test loss: 2.3822529315948486'\n",
    "loss\tAUC\tME\tMAE\tRMSE\tR2\n",
    "chl\t0.011127\tNaN\t-0.004222\t0.011127\t0.047965\t0.280689\n",
    "coc\t0.019963\tNaN\t-0.001227\t0.019963\t0.100067\t-2.879654\n",
    "cya\t0.010458\tNaN\t-0.004341\t0.010458\t0.049245\t-1.785061\n",
    "dia\t0.026153\tNaN\t-0.006758\t0.026153\t0.060267\t0.824282"
   ]
  },
  {
   "cell_type": "markdown",
   "id": "02235e61-6fc6-4f7a-869c-56e01d29de12",
   "metadata": {
    "tags": []
   },
   "source": [
    "## 2dc27b89 (restore weights)"
   ]
  },
  {
   "cell_type": "markdown",
   "id": "211a0ae6-c61f-4645-99b5-ee66fa209c9a",
   "metadata": {},
   "source": [
    "- weights on MAE"
   ]
  },
  {
   "cell_type": "markdown",
   "id": "bfeb720d-b8b2-48d5-bc71-6edce5cb9caa",
   "metadata": {},
   "source": [
    "### exp-eab57"
   ]
  },
  {
   "cell_type": "markdown",
   "id": "60a6b603-2a90-4a68-b491-8fd84dde5c17",
   "metadata": {},
   "source": [
    "- no layers, just regression"
   ]
  },
  {
   "cell_type": "raw",
   "id": "4b9fe6e0-69ab-49f2-952f-c0f739525a00",
   "metadata": {},
   "source": [
    "'Test loss: 2.672224760055542'\n",
    "loss\tAUC\tME\tMAE\tRMSE\tR2\n",
    "chl\t0.013627\tNaN\t-0.006233\t0.013627\t0.048942\t0.251109\n",
    "coc\t0.020561\tNaN\t-0.005626\t0.020561\t0.052590\t-0.071545\n",
    "cya\t0.011256\tNaN\t-0.004650\t0.011256\t0.023762\t0.351516\n",
    "dia\t0.034319\tNaN\t-0.002828\t0.034319\t0.071172\t0.754941"
   ]
  },
  {
   "cell_type": "code",
   "execution_count": null,
   "id": "2b619012-aeb6-4c31-a84f-05e6a068bcce",
   "metadata": {},
   "outputs": [],
   "source": [
    "import numpy as np\n",
    "\n",
    "# weights (inverse mean of training data)\n",
    "weights = np.array(\n",
    "    [55.77426528930664, 49.406314849853516, 49.087276458740234, 10.018187522888184]\n",
    ")\n",
    "print(1/weights)\n",
    "weights.dot([0.013627, 0.020561, 0.011256, 0.034319])"
   ]
  },
  {
   "cell_type": "markdown",
   "id": "76a577a1-9a6f-4ad0-b598-b61ff7b9ca05",
   "metadata": {
    "jp-MarkdownHeadingCollapsed": true,
    "tags": []
   },
   "source": [
    "### exp-c0ff8"
   ]
  },
  {
   "cell_type": "markdown",
   "id": "e293844d-2040-43f0-a715-ff38eb33d34d",
   "metadata": {},
   "source": [
    "- mnn with 3 narrowing (from 128) layers (77,924)\n",
    "- swish activation\n",
    "- loss noisy at 200 epochs"
   ]
  },
  {
   "cell_type": "raw",
   "id": "33182266-da2d-4a64-9797-8f369228074c",
   "metadata": {},
   "source": [
    "'Test loss: 2.3015084266662598'\n",
    "loss\tAUC\tME\tMAE\tRMSE\tR2\n",
    "chl\t0.011108\tNaN\t-0.003682\t0.011108\t0.057716\t-0.041500\n",
    "coc\t0.018151\tNaN\t-0.003074\t0.018151\t0.047728\t0.117401\n",
    "cya\t0.010654\tNaN\t-0.001883\t0.010654\t0.097159\t-9.841341\n",
    "dia\t0.026170\tNaN\t-0.001227\t0.026170\t0.072183\t0.747928"
   ]
  },
  {
   "cell_type": "markdown",
   "id": "ec9c5da2-7c45-4369-acfc-782d609d3d73",
   "metadata": {
    "jp-MarkdownHeadingCollapsed": true,
    "tags": []
   },
   "source": [
    "### exp-b09b1"
   ]
  },
  {
   "cell_type": "markdown",
   "id": "97444af2-dff0-416d-8a3d-7301377e7c8e",
   "metadata": {},
   "source": [
    "- mnn with 3 widening (from 32) layers ()\n",
    "- swish activation"
   ]
  },
  {
   "cell_type": "raw",
   "id": "10b7d025-83ed-4747-8953-5664824622b0",
   "metadata": {},
   "source": [
    "'Test loss: 2.221733331680298'\n",
    "loss\tAUC\tME\tMAE\tRMSE\tR2\n",
    "chl\t0.011126\tNaN\t-0.002731\t0.011126\t0.041488\t0.461840\n",
    "coc\t0.017779\tNaN\t-0.000806\t0.017779\t0.044947\t0.217273\n",
    "cya\t0.009557\tNaN\t-0.002770\t0.009557\t0.031573\t-0.144867\n",
    "dia\t0.025325\tNaN\t0.000862\t0.025325\t0.061010\t0.819921"
   ]
  },
  {
   "cell_type": "markdown",
   "id": "b276cd4e-7383-4691-86b1-e28f6727e7a3",
   "metadata": {
    "jp-MarkdownHeadingCollapsed": true,
    "tags": []
   },
   "source": [
    "### exp-b6cb1"
   ]
  },
  {
   "cell_type": "markdown",
   "id": "ba2438fd-abc2-4e89-8494-3ef3a7dc7eac",
   "metadata": {},
   "source": [
    "- mnn with 3 wide (64 nodes) layers (42,308 trainable parameters)\n",
    "- swish activate\n",
    "- very early termination (~80 epochs)"
   ]
  },
  {
   "cell_type": "raw",
   "id": "c5a1ee56-3155-4dca-b5c8-464b4bc24b24",
   "metadata": {},
   "source": [
    "'Test loss: 2.255746603012085'\n",
    "loss\tAUC\tME\tMAE\tRMSE\tR2\n",
    "chl\t0.010688\tNaN\t-0.004342\t0.010688\t0.039924\t0.501658\n",
    "coc\t0.018306\tNaN\t-0.001531\t0.018306\t0.046519\t0.161557\n",
    "cya\t0.010328\tNaN\t-0.003140\t0.010328\t0.022661\t0.410216\n",
    "dia\t0.024776\tNaN\t-0.001365\t0.024776\t0.058526\t0.834291"
   ]
  },
  {
   "cell_type": "markdown",
   "id": "f0dda587-b0b3-40c8-84ab-28895e3cdba6",
   "metadata": {
    "jp-MarkdownHeadingCollapsed": true,
    "tags": []
   },
   "source": [
    "### exp-b9eff"
   ]
  },
  {
   "cell_type": "markdown",
   "id": "f53d1e98-47d2-4f08-9a8a-33833f22052d",
   "metadata": {},
   "source": [
    "- mnn with 3 narrowing (from 32 nodes) layers (17,564 trainable parameters)\n",
    "- swish activation"
   ]
  },
  {
   "cell_type": "raw",
   "id": "8f7687c0-6153-47b8-92bd-75830ef304ea",
   "metadata": {},
   "source": [
    "'Test loss: 2.241039752960205'\n",
    "loss\tAUC\tME\tMAE\tRMSE\tR2\n",
    "chl\t0.010943\tNaN\t-0.002994\t0.010943\t0.044897\t0.369782\n",
    "coc\t0.017548\tNaN\t-0.002584\t0.017548\t0.046169\t0.174145\n",
    "cya\t0.009973\tNaN\t-0.005313\t0.009973\t0.021891\t0.449652\n",
    "dia\t0.027367\tNaN\t-0.000264\t0.027367\t0.063320\t0.806029"
   ]
  },
  {
   "cell_type": "markdown",
   "id": "d8d38b1a-e07e-4eb1-bcc9-aca549eb1e76",
   "metadata": {},
   "source": [
    "### exp-9f6bf"
   ]
  },
  {
   "cell_type": "markdown",
   "id": "c91652ce-6eb5-4f6d-ac66-d47a7ccbdd49",
   "metadata": {},
   "source": [
    "- mnn with 3 widening (from 8 nodes) layers (5,036 trainable parameters)\n",
    "- swish activation"
   ]
  },
  {
   "cell_type": "raw",
   "id": "82d13f4c-eb9c-47a7-a713-448b7d4efd1a",
   "metadata": {},
   "source": [
    "'Test loss: 2.1852617263793945'\n",
    "loss\tAUC\tME\tMAE\tRMSE\tR2\n",
    "chl\t0.010867\tNaN\t-0.004432\t0.010867\t0.037672\t0.556296\n",
    "coc\t0.017330\tNaN\t-0.003577\t0.017330\t0.046128\t0.175609\n",
    "cya\t0.009532\tNaN\t-0.003976\t0.009532\t0.021168\t0.485385\n",
    "dia\t0.025457\tNaN\t-0.003357\t0.025457\t0.059085\t0.831107"
   ]
  },
  {
   "cell_type": "markdown",
   "id": "1c435f31-3eea-460c-a171-4e70955be703",
   "metadata": {},
   "source": [
    "### exp-60b2d"
   ]
  },
  {
   "cell_type": "markdown",
   "id": "6f287e60-d19b-4dcc-b550-724fa9f5d789",
   "metadata": {},
   "source": [
    "- mnn with 3, 32 node layers, relu activation"
   ]
  },
  {
   "cell_type": "raw",
   "id": "c2796ce8-d9a0-4995-9d20-2934a30a430e",
   "metadata": {},
   "source": [
    "'Test loss: 2.1982078552246094'\n",
    "loss\tAUC\tME\tMAE\tRMSE\tR2\n",
    "chl\t0.010762\tNaN\t-0.004088\t0.010762\t0.040754\t0.480730\n",
    "coc\t0.017248\tNaN\t-0.001879\t0.017248\t0.044910\t0.218547\n",
    "cya\t0.009920\tNaN\t-0.003386\t0.009920\t0.021730\t0.457688\n",
    "dia\t0.025840\tNaN\t-0.000791\t0.025840\t0.061541\t0.816777"
   ]
  },
  {
   "cell_type": "markdown",
   "id": "17e1cccd-dd5c-4d29-95e9-340e99e71fbb",
   "metadata": {
    "tags": []
   },
   "source": [
    "## 594b900 (simple model with only abundance)"
   ]
  },
  {
   "cell_type": "markdown",
   "id": "97361089-2f55-43af-8c41-8101178aab47",
   "metadata": {
    "tags": []
   },
   "source": [
    "### exp-4781f\n",
    "\n",
    "change from exp-c7418:\n",
    "- it weights the MAE loss by inverse of group means\n",
    "- a marginal improvement in R2"
   ]
  },
  {
   "cell_type": "raw",
   "id": "b0e36977-7f34-4362-84a3-82ce55b47801",
   "metadata": {},
   "source": [
    "'Test loss: 2.260983467102051'\n",
    "loss\tAUC\tME\tMAE\tRMSE\tR2\n",
    "chl\t0.010650\tNaN\t-0.003946\t0.010650\t0.037557\t0.558996\n",
    "coc\t0.018073\tNaN\t-0.002085\t0.018073\t0.046591\t0.158964\n",
    "cya\t0.010249\tNaN\t-0.005946\t0.010249\t0.022945\t0.395388\n",
    "dia\t0.027045\tNaN\t-0.006145\t0.027045\t0.061881\t0.814745"
   ]
  },
  {
   "cell_type": "markdown",
   "id": "c58091c9-db4f-4cc2-9a4b-c839a25782c1",
   "metadata": {
    "jp-MarkdownHeadingCollapsed": true,
    "tags": []
   },
   "source": [
    "### exp-c7418"
   ]
  },
  {
   "cell_type": "markdown",
   "id": "b7cbd517-bc49-49bd-ae18-42e85f12b9ed",
   "metadata": {},
   "source": [
    "change from exp-b7004:\n",
    "- 'relu' activation\n",
    "- minimal impact"
   ]
  },
  {
   "cell_type": "raw",
   "id": "4621831c-2d05-44cf-a017-e53c2d5db336",
   "metadata": {},
   "source": [
    "'Test loss: 0.06551116704940796'\n",
    "loss\tAUC\tME\tMAE\tRMSE\tR2\n",
    "chl\t0.011420\tNaN\t-0.003401\t0.011420\t0.040104\t0.497151\n",
    "coc\t0.017706\tNaN\t-0.004282\t0.017706\t0.047439\t0.128076\n",
    "cya\t0.010313\tNaN\t-0.005339\t0.010313\t0.022703\t0.408040\n",
    "dia\t0.026072\tNaN\t-0.003928\t0.026072\t0.060662\t0.821974"
   ]
  },
  {
   "cell_type": "markdown",
   "id": "9ef1cbae-ba3f-4d1c-8a7a-3f90c8e8e83f",
   "metadata": {
    "jp-MarkdownHeadingCollapsed": true,
    "tags": []
   },
   "source": [
    "### exp-b7004"
   ]
  },
  {
   "cell_type": "markdown",
   "id": "088d39c7-8ac6-4c9e-928a-1d5e5fa1ee49",
   "metadata": {},
   "source": [
    "this looks like an okay \"naive\" case:\n",
    "- no weight\n",
    "- has a single layer with 32 nodes and 'swish' activation\n",
    "- performs fine on data set to 0.0 at or below 10e-something"
   ]
  },
  {
   "cell_type": "raw",
   "id": "c92e4a33-b8ed-4a4f-8e87-63e8962fb321",
   "metadata": {},
   "source": [
    "'Test loss: 0.0653865784406662'\n",
    "loss\tAUC\tME\tMAE\tRMSE\tR2\n",
    "chl\t0.011078\tNaN\t-0.004085\t0.011078\t0.040480\t0.487676\n",
    "coc\t0.017908\tNaN\t-0.003272\t0.017908\t0.046911\t0.147362\n",
    "cya\t0.010439\tNaN\t-0.006818\t0.010439\t0.023156\t0.384194\n",
    "dia\t0.025962\tNaN\t-0.005958\t0.025962\t0.059386\t0.829383"
   ]
  },
  {
   "cell_type": "markdown",
   "id": "a136fc47-c7e0-4a25-bae7-3f4b2e89e602",
   "metadata": {
    "jp-MarkdownHeadingCollapsed": true,
    "tags": []
   },
   "source": [
    "## 2e21a66 (loss weighted by abundance prob)"
   ]
  },
  {
   "cell_type": "markdown",
   "id": "abbac89e-21d8-40c1-b289-bb5795dbe1b6",
   "metadata": {
    "tags": []
   },
   "source": [
    "### exp-9f291\n",
    "\n",
    "I don't trust the AUC values shown, as the ROC curves were essentially diagonal. Everything else looked bad to worse."
   ]
  },
  {
   "cell_type": "code",
   "execution_count": null,
   "id": "d5c0d008-f63c-4c0f-8a40-6c1eb1f97247",
   "metadata": {},
   "outputs": [],
   "source": [
    "metrics = {\n",
    "  \"loss\": 1.2280960083007812,\n",
    "  \"product_chl_ME\": -0.004955189768224955,\n",
    "  \"product_chl_MAE\": 0.022813349962234497,\n",
    "  \"product_chl_RMSE\": 0.05957883968949318,\n",
    "  \"product_chl_R2\": -0.10980522632598877,\n",
    "  \"product_coc_ME\": -0.015996867790818214,\n",
    "  \"product_coc_MAE\": 0.01973014324903488,\n",
    "  \"product_coc_RMSE\": 0.06181754171848297,\n",
    "  \"product_coc_R2\": -0.4805917739868164,\n",
    "  \"product_cya_ME\": 0.0014727258821949363,\n",
    "  \"product_cya_MAE\": 0.016090724617242813,\n",
    "  \"product_cya_RMSE\": 0.02713635377585888,\n",
    "  \"product_cya_R2\": 0.15429013967514038,\n",
    "  \"product_dia_ME\": -0.02798730880022049,\n",
    "  \"product_dia_MAE\": 0.06729260087013245,\n",
    "  \"product_dia_RMSE\": 0.12573890388011932,\n",
    "  \"product_dia_R2\": 0.23511826992034912,\n",
    "  \"presence_chl_loss\": 0.3108878433704376,\n",
    "  \"abundance_chl_loss\": 0.024213816970586777,\n",
    "  \"presence_coc_loss\": 0.3642471730709076,\n",
    "  \"abundance_coc_loss\": 0.01825951784849167,\n",
    "  \"presence_cya_loss\": 0.38027915358543396,\n",
    "  \"abundance_cya_loss\": 0.015522638335824013,\n",
    "  \"presence_dia_loss\": 0.04745016619563103,\n",
    "  \"abundance_dia_loss\": 0.06723576039075851,\n",
    "  \"presence_chl_AUC\": 0.8756850957870483,\n",
    "  \"presence_coc_AUC\": 0.8391563892364502,\n",
    "  \"presence_cya_AUC\": 0.9311991333961487,\n",
    "  \"presence_dia_AUC\": 0.4999741017818451\n",
    "}"
   ]
  },
  {
   "cell_type": "markdown",
   "id": "513c0f03-30e7-4d6e-b821-659b68a28b59",
   "metadata": {
    "jp-MarkdownHeadingCollapsed": true,
    "tags": []
   },
   "source": [
    "## c106b09"
   ]
  },
  {
   "cell_type": "markdown",
   "id": "a896c97f-e929-466b-9d9a-a69de9925a77",
   "metadata": {},
   "source": [
    "### exp-6852d"
   ]
  },
  {
   "cell_type": "markdown",
   "id": "2aa57382-0b0e-491c-ba8e-dbeaee9c5266",
   "metadata": {},
   "source": [
    "### exp-73a57"
   ]
  },
  {
   "cell_type": "markdown",
   "id": "27a0d5bf-3dd8-4976-81a6-3a74e8debbfc",
   "metadata": {},
   "source": [
    "### exp-681ae"
   ]
  },
  {
   "cell_type": "markdown",
   "id": "ff7068e6-d30c-48b4-9a5e-62ab1c4c88d8",
   "metadata": {
    "jp-MarkdownHeadingCollapsed": true,
    "tags": []
   },
   "source": [
    "## 55a25bd"
   ]
  },
  {
   "cell_type": "markdown",
   "id": "01aab2ed-3dce-4c24-b392-c109a1801739",
   "metadata": {},
   "source": [
    "### exp-fab79"
   ]
  },
  {
   "cell_type": "markdown",
   "id": "c7a1e67b-ce84-4fb3-8a87-e29f5bae4396",
   "metadata": {},
   "source": [
    "### exp-4cddf"
   ]
  },
  {
   "cell_type": "markdown",
   "id": "1c686e45-8ae7-4e96-8d2e-62939514c0bb",
   "metadata": {},
   "source": [
    "### exp-19308"
   ]
  },
  {
   "cell_type": "markdown",
   "id": "68e467fc-d2da-4b3c-bb51-ffe833257eda",
   "metadata": {},
   "source": [
    "### exp-302e1"
   ]
  },
  {
   "cell_type": "markdown",
   "id": "498777d9-ca8c-4bcd-af70-2ac2d0938c37",
   "metadata": {},
   "source": [
    "### exp-cd4ba"
   ]
  },
  {
   "cell_type": "markdown",
   "id": "b8c7c9b6-82d0-46a9-a6c5-0882dcdd7237",
   "metadata": {
    "jp-MarkdownHeadingCollapsed": true,
    "tags": []
   },
   "source": [
    "## 52b6478"
   ]
  },
  {
   "cell_type": "markdown",
   "id": "6d441643-f1a8-4d67-9e14-1096acdb3960",
   "metadata": {},
   "source": [
    "### exp-52daa"
   ]
  },
  {
   "cell_type": "markdown",
   "id": "abe801b8-2291-449f-b353-b56e82c6951d",
   "metadata": {},
   "source": [
    "### exp-96767"
   ]
  },
  {
   "cell_type": "markdown",
   "id": "9a166374-8768-487b-b18f-04e1b0d2f66b",
   "metadata": {
    "jp-MarkdownHeadingCollapsed": true,
    "tags": []
   },
   "source": [
    "## 9960490"
   ]
  },
  {
   "cell_type": "markdown",
   "id": "f16314a0-7d47-4628-8748-87c895216723",
   "metadata": {},
   "source": [
    "### exp-38b0c"
   ]
  }
 ],
 "metadata": {
  "language_info": {
   "name": "python"
  }
 },
 "nbformat": 4,
 "nbformat_minor": 5
}
