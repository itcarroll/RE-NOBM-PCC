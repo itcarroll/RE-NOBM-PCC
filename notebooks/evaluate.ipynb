{
 "cells": [
  {
   "cell_type": "code",
   "execution_count": null,
   "metadata": {
    "colab": {
     "base_uri": "https://localhost:8080/",
     "height": 17
    },
    "executionInfo": {
     "elapsed": 19544,
     "status": "ok",
     "timestamp": 1652122217046,
     "user": {
      "displayName": "Ian Carroll",
      "userId": "12373245607212272471"
     },
     "user_tz": 240
    },
    "id": "TXrZ-fmREmFq",
    "outputId": "53d8feb5-f2fd-4cfb-a551-a89af84c6302"
   },
   "outputs": [],
   "source": [
    "import os\n",
    "\n",
    "import holoviews as hv\n",
    "import hvplot.xarray\n",
    "import numpy as np\n",
    "import tensorflow as tf\n",
    "import xarray as xr\n",
    "\n",
    "from re_nobm_pcc.kit import DATA_DIR\n",
    "\n",
    "os.chdir(os.environ['PWD'])"
   ]
  },
  {
   "cell_type": "markdown",
   "metadata": {},
   "source": [
    "## Summary"
   ]
  },
  {
   "cell_type": "code",
   "execution_count": null,
   "metadata": {},
   "outputs": [],
   "source": [
    "model = tf.keras.models.load_model(DATA_DIR/'model')"
   ]
  },
  {
   "cell_type": "code",
   "execution_count": null,
   "metadata": {},
   "outputs": [],
   "source": [
    "model.summary()"
   ]
  },
  {
   "cell_type": "markdown",
   "metadata": {},
   "source": [
    "## Training"
   ]
  },
  {
   "cell_type": "code",
   "execution_count": null,
   "metadata": {
    "colab": {
     "base_uri": "https://localhost:8080/",
     "height": 327
    },
    "executionInfo": {
     "elapsed": 469,
     "status": "ok",
     "timestamp": 1652123586720,
     "user": {
      "displayName": "Ian Carroll",
      "userId": "12373245607212272471"
     },
     "user_tz": 240
    },
    "id": "8nsEdm3TFUVy",
    "outputId": "f92c20e0-8ba8-416e-fde8-1de51a3c539e"
   },
   "outputs": [],
   "source": [
    "(\n",
    "    xr.Dataset({\n",
    "        k: ('epoch', v) for k, v in np.load(DATA_DIR/'fit.npz').items()\n",
    "    })\n",
    "    .hvplot.line(\n",
    "        logy=True,\n",
    "        ylabel=model.loss.name,\n",
    "    )\n",
    ")"
   ]
  },
  {
   "cell_type": "markdown",
   "metadata": {},
   "source": [
    "## Testing"
   ]
  },
  {
   "cell_type": "code",
   "execution_count": null,
   "metadata": {},
   "outputs": [],
   "source": [
    "test = tf.data.experimental.load(str(DATA_DIR/'test')).batch(256)"
   ]
  },
  {
   "cell_type": "code",
   "execution_count": null,
   "metadata": {},
   "outputs": [],
   "source": [
    "y_hat = model.predict(test)"
   ]
  },
  {
   "cell_type": "code",
   "execution_count": null,
   "metadata": {},
   "outputs": [],
   "source": [
    "(\n",
    "    xr.Dataset({\n",
    "        k: ('epoch', v) for k, v in np.load(DATA_DIR/'fit.npz').items()\n",
    "    })\n",
    "    .hvplot.line(\n",
    "        logy=True,\n",
    "        ylabel=model.loss.name,\n",
    "    )\n",
    ")"
   ]
  },
  {
   "cell_type": "code",
   "execution_count": null,
   "metadata": {
    "id": "FBsmdKJnFdPl"
   },
   "outputs": [],
   "source": [
    "predict = model(test['x'].values, training=False)\n",
    "full = xr.Dataset({\n",
    "    'estimate': (('pxl', 'component'), predict),\n",
    "    'target': test['y'],\n",
    "    'loss': (tuple(), model.loss(test['y'].values, predict).numpy()),\n",
    "})"
   ]
  },
  {
   "cell_type": "code",
   "execution_count": null,
   "metadata": {
    "colab": {
     "base_uri": "https://localhost:8080/"
    },
    "executionInfo": {
     "elapsed": 6,
     "status": "ok",
     "timestamp": 1652124372018,
     "user": {
      "displayName": "Ian Carroll",
      "userId": "12373245607212272471"
     },
     "user_tz": 240
    },
    "id": "t2RawaPYQ9Rn",
    "outputId": "0618fb9d-1987-4611-e13c-3244c7e00da8"
   },
   "outputs": [],
   "source": [
    "list(full['component'].data)"
   ]
  },
  {
   "cell_type": "code",
   "execution_count": null,
   "metadata": {
    "colab": {
     "base_uri": "https://localhost:8080/",
     "height": 797
    },
    "executionInfo": {
     "elapsed": 927,
     "status": "ok",
     "timestamp": 1652124378244,
     "user": {
      "displayName": "Ian Carroll",
      "userId": "12373245607212272471"
     },
     "user_tz": 240
    },
    "id": "ek3XALWuFtNl",
    "outputId": "24da7755-18ae-4279-e4e4-0951c5e98da2"
   },
   "outputs": [],
   "source": [
    "hv.extension('bokeh')\n",
    "elements = []\n",
    "for item in full['component'].data:\n",
    "    elements.append(\n",
    "        full\n",
    "        .sel(component=item)\n",
    "        .hvplot\n",
    "        .hexbin(\n",
    "            x='target',\n",
    "            y='estimate',\n",
    "            aspect='equal',\n",
    "            frame_height=300,\n",
    "            frame_width=400,\n",
    "            label=item,\n",
    "        )\n",
    "    )\n",
    "hv.Layout(elements).opts(hv.opts.Layout(shared_axes=False)).cols(2)"
   ]
  }
 ],
 "metadata": {
  "colab": {
   "authorship_tag": "ABX9TyNdfXMuC9fZMEaCBdKJ+UZm",
   "collapsed_sections": [],
   "name": "perceptron.ipynb",
   "provenance": []
  },
  "kernelspec": {
   "display_name": "Python 3 (ipykernel)",
   "language": "python",
   "name": "python3"
  },
  "language_info": {
   "codemirror_mode": {
    "name": "ipython",
    "version": 3
   },
   "file_extension": ".py",
   "mimetype": "text/x-python",
   "name": "python",
   "nbconvert_exporter": "python",
   "pygments_lexer": "ipython3",
   "version": "3.10.6"
  }
 },
 "nbformat": 4,
 "nbformat_minor": 4
}
