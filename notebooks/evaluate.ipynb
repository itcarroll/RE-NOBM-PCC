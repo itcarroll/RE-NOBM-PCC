{
 "cells": [
  {
   "cell_type": "code",
   "execution_count": null,
   "metadata": {},
   "outputs": [],
   "source": [
    "import os\n",
    "import json\n",
    "os.environ['TF_CPP_MIN_LOG_LEVEL'] = '3'"
   ]
  },
  {
   "cell_type": "code",
   "execution_count": null,
   "metadata": {},
   "outputs": [],
   "source": [
    "import holoviews as hv\n",
    "import hvplot.xarray\n",
    "import numpy as np\n",
    "import pandas as pd\n",
    "import tensorflow as tf\n",
    "import xarray as xr\n",
    "\n",
    "hv.extension('bokeh', logo=False)"
   ]
  },
  {
   "cell_type": "code",
   "execution_count": null,
   "metadata": {},
   "outputs": [],
   "source": [
    "from re_nobm_pcc.kit import DATA_DIR, TAXA\n",
    "# from pathlib import Path\n",
    "# DATA_DIR = Path('../data')"
   ]
  },
  {
   "cell_type": "code",
   "execution_count": null,
   "metadata": {},
   "outputs": [],
   "source": [
    "def hexbin(ds):\n",
    "    hv.output(size=120)\n",
    "    plots = {}\n",
    "    for item in TAXA:\n",
    "        plots[item] = (\n",
    "            hv.HexTiles(\n",
    "                data=(ds[item], ds[f'{item}_hat']),\n",
    "                kdims=['y', 'y_hat'],\n",
    "            ).options(\n",
    "                logz=True,\n",
    "                cmap='greens',\n",
    "                bgcolor='lightskyblue',\n",
    "                tools=['hover'],\n",
    "                padding=0.001,\n",
    "                aspect='square',\n",
    "            )\n",
    "            *hv.Slope(1, 0).options(\n",
    "                color='darkorange',\n",
    "                line_width=1,\n",
    "            )\n",
    "        )\n",
    "    return (\n",
    "        hv.HoloMap(plots, kdims='group').layout().cols(2).options(shared_axes=False)\n",
    "    )\n",
    "\n",
    "\n",
    "def roc(ds):\n",
    "    n = ds.sizes['pxl']\n",
    "    plots = {}\n",
    "    for item in TAXA:\n",
    "        \n",
    "        order = ds[f'{item}_hat'].argsort()\n",
    "        false_neg = np.insert(ds[item].cumsum(), 0, 0)\n",
    "        pos = false_neg[-1]\n",
    "        neg = n - pos\n",
    "        true_neg = np.arange(n + 1) - false_neg\n",
    "        true_pos_rate = 1 - false_neg / pos\n",
    "        false_pos_rate = 1 - true_neg / neg\n",
    "        plots[item] = hv.Curve(\n",
    "            (false_pos_rate, true_pos_rate), 'False Positive Rate', 'True Positive Rate'\n",
    "        )\n",
    "    return hv.HoloMap(plots, kdims='group').overlay().opts(legend_position='bottom_right')"
   ]
  },
  {
   "cell_type": "markdown",
   "metadata": {},
   "source": [
    "## Model"
   ]
  },
  {
   "cell_type": "code",
   "execution_count": null,
   "metadata": {},
   "outputs": [],
   "source": [
    "model = tf.keras.models.load_model(\n",
    "    DATA_DIR/'model',\n",
    "    compile=False,\n",
    ")"
   ]
  },
  {
   "cell_type": "code",
   "execution_count": null,
   "metadata": {},
   "outputs": [],
   "source": [
    "model.summary()"
   ]
  },
  {
   "cell_type": "markdown",
   "metadata": {},
   "source": [
    "## Loss by Epoch"
   ]
  },
  {
   "cell_type": "code",
   "execution_count": null,
   "metadata": {},
   "outputs": [],
   "source": [
    "fit = xr.Dataset({\n",
    "    k: ('epoch', v) for k, v in np.load(DATA_DIR/'fit.npz').items()\n",
    "})\n",
    "plt = (\n",
    "    fit.hvplot.line(x='epoch', y=['loss', 'val_loss'], logy=True).options('Curve', color='black')\n",
    "    + hv.Overlay(tuple(\n",
    "        fit.hvplot.line(x='epoch', y=[f'abundance_{i}_loss', f'val_abundance_{i}_loss'], logy=True)\n",
    "        for i in TAXA\n",
    "    )).options('Curve', color=hv.Cycle(\n",
    "        ['blue', 'blue', 'orange', 'orange', 'red', 'red', 'green', 'green']\n",
    "    ))\n",
    ")\n",
    "(\n",
    "    plt\n",
    "    .options(shared_axes=False)\n",
    "    .options('Curve', line_dash=hv.Cycle(['solid', 'dashed']))\n",
    "    .cols(1)\n",
    ")"
   ]
  },
  {
   "cell_type": "markdown",
   "metadata": {},
   "source": [
    "## Test: Metrics"
   ]
  },
  {
   "cell_type": "code",
   "execution_count": null,
   "metadata": {},
   "outputs": [],
   "source": [
    "with (DATA_DIR/'metrics.json').open() as stream:\n",
    "    metrics = json.load(stream)"
   ]
  },
  {
   "cell_type": "code",
   "execution_count": null,
   "metadata": {},
   "outputs": [],
   "source": [
    "f\"Test loss: {metrics['loss']}\""
   ]
  },
  {
   "cell_type": "code",
   "execution_count": null,
   "metadata": {},
   "outputs": [],
   "source": [
    "table = (\n",
    "    pd.DataFrame.from_dict(\n",
    "        {tuple(k.split('_'))[-2:]: [v] for k, v in metrics.items()},\n",
    "        orient='columns',\n",
    "    )\n",
    "    .stack(level=0).droplevel(0)\n",
    ")\n",
    "columns = ['loss', 'AUC', 'ME', 'MAE', 'RMSE', 'R2']\n",
    "table = pd.concat((pd.DataFrame(columns=columns), table))\n",
    "table[columns]"
   ]
  },
  {
   "cell_type": "markdown",
   "metadata": {},
   "source": [
    "## Test: True vs. Predicted"
   ]
  },
  {
   "cell_type": "code",
   "execution_count": null,
   "metadata": {},
   "outputs": [],
   "source": [
    "test = tf.data.Dataset.load(str(DATA_DIR/'test'))\n",
    "test = test.batch(test.cardinality())\n",
    "_, y = next(test.as_numpy_iterator())"
   ]
  },
  {
   "cell_type": "code",
   "execution_count": null,
   "metadata": {},
   "outputs": [],
   "source": [
    "y_hat = {\n",
    "    model.outputs[i].node.layer.name: item\n",
    "    for i, item in enumerate(model.predict(test, verbose=0))\n",
    "}"
   ]
  },
  {
   "cell_type": "code",
   "execution_count": null,
   "metadata": {},
   "outputs": [],
   "source": [
    "test = xr.Dataset(\n",
    "    {i: (('pxl',), y[f'abundance_{i}']) for i in TAXA}\n",
    ")\n",
    "if table['AUC'].any():\n",
    "    test = xr.merge(\n",
    "        (\n",
    "            xr.Dataset(\n",
    "                {f'{i}_presence_hat': (('pxl',), y_hat[f'presence_{i}'].flatten()) for i in TAXA}\n",
    "            ),\n",
    "            xr.Dataset(\n",
    "                {f'{i}_hat': (('pxl',), (\n",
    "                    (y_hat[f'abundance_{i}'][:, :1] * (y_hat[f'presence_{i}'] > 0)).flatten()\n",
    "                )) for i in TAXA}\n",
    "            ),\n",
    "            test\n",
    "        )\n",
    "    )\n",
    "    roc(test)\n",
    "else:\n",
    "    test = xr.merge(\n",
    "        (\n",
    "            xr.Dataset(\n",
    "                {f'{i}_hat': (('pxl',), y_hat[f'abundance_{i}'][:, :1].flatten()) for i in TAXA}\n",
    "            ),\n",
    "            test\n",
    "        )\n",
    "    )"
   ]
  },
  {
   "cell_type": "code",
   "execution_count": null,
   "metadata": {},
   "outputs": [],
   "source": [
    "hexbin(test)"
   ]
  },
  {
   "cell_type": "code",
   "execution_count": null,
   "metadata": {},
   "outputs": [],
   "source": [
    "hexbin(np.log10(test))"
   ]
  },
  {
   "cell_type": "code",
   "execution_count": null,
   "metadata": {},
   "outputs": [],
   "source": []
  }
 ],
 "metadata": {
  "language_info": {
   "name": "python"
  }
 },
 "nbformat": 4,
 "nbformat_minor": 4
}
