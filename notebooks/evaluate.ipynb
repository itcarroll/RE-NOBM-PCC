{
 "cells": [
  {
   "cell_type": "code",
   "execution_count": null,
   "metadata": {},
   "outputs": [],
   "source": [
    "import os\n",
    "import json\n",
    "os.environ['TF_CPP_MIN_LOG_LEVEL'] = '3'"
   ]
  },
  {
   "cell_type": "code",
   "execution_count": null,
   "metadata": {},
   "outputs": [],
   "source": [
    "import holoviews as hv\n",
    "import hvplot.xarray\n",
    "import numpy as np\n",
    "import pandas as pd\n",
    "import tensorflow as tf\n",
    "import xarray as xr\n",
    "\n",
    "hv.extension('bokeh', logo=False)"
   ]
  },
  {
   "cell_type": "code",
   "execution_count": null,
   "metadata": {},
   "outputs": [],
   "source": [
    "from re_nobm_pcc.kit import DATA_DIR, TAXA\n",
    "from re_nobm_pcc.learn import Truncated_MAE"
   ]
  },
  {
   "cell_type": "code",
   "execution_count": null,
   "metadata": {},
   "outputs": [],
   "source": [
    "def hexbin(ds):\n",
    "    hv.output(size=120)\n",
    "    plots = {}\n",
    "    for item in TAXA:\n",
    "        plots[item] = (\n",
    "            hv.HexTiles(\n",
    "                data=(ds[item], ds[f'{item}_hat']),\n",
    "                kdims=['y', 'y_hat'],\n",
    "            ).options(\n",
    "                logz=True,\n",
    "                cmap='greens',\n",
    "                bgcolor='lightskyblue',\n",
    "                tools=['hover'],\n",
    "                padding=0.001,\n",
    "                aspect='square',\n",
    "            )\n",
    "            *hv.Slope(1, 0).options(\n",
    "                color='darkorange',\n",
    "                line_width=1,\n",
    "            )\n",
    "        )\n",
    "    return (\n",
    "        hv.HoloMap(plots, kdims='group').layout().cols(2).options(shared_axes=False)\n",
    "    )"
   ]
  },
  {
   "cell_type": "markdown",
   "metadata": {},
   "source": [
    "## Model"
   ]
  },
  {
   "cell_type": "code",
   "execution_count": null,
   "metadata": {},
   "outputs": [],
   "source": [
    "model = tf.keras.models.load_model(\n",
    "    DATA_DIR/'model',\n",
    "    compile=False,\n",
    ")"
   ]
  },
  {
   "cell_type": "code",
   "execution_count": null,
   "metadata": {},
   "outputs": [],
   "source": [
    "model.summary()"
   ]
  },
  {
   "cell_type": "markdown",
   "metadata": {},
   "source": [
    "## Loss by Epoch"
   ]
  },
  {
   "cell_type": "code",
   "execution_count": null,
   "metadata": {},
   "outputs": [],
   "source": [
    "(\n",
    "    xr.Dataset({\n",
    "        k: ('epoch', v) for k, v in np.load(DATA_DIR/'fit.npz').items()\n",
    "    })\n",
    "    .hvplot.line(\n",
    "        x='epoch',\n",
    "        y=['loss', 'val_loss'],\n",
    "        logy=True,\n",
    "    )\n",
    ")"
   ]
  },
  {
   "cell_type": "markdown",
   "metadata": {},
   "source": [
    "## Test: Metrics"
   ]
  },
  {
   "cell_type": "code",
   "execution_count": null,
   "metadata": {},
   "outputs": [],
   "source": [
    "with (DATA_DIR/'metrics.json').open() as stream:\n",
    "    metrics = json.load(stream)\n",
    "loss = metrics.pop('loss')"
   ]
  },
  {
   "cell_type": "code",
   "execution_count": null,
   "metadata": {},
   "outputs": [],
   "source": [
    "print('Test loss: {}'.format(loss[0]))"
   ]
  },
  {
   "cell_type": "code",
   "execution_count": null,
   "metadata": {},
   "outputs": [],
   "source": [
    "table = (\n",
    "    pd.DataFrame.from_dict(\n",
    "        {tuple(k.split('_')): [v] for k, v in metrics.items()},\n",
    "        orient='columns',\n",
    "    )\n",
    "    .stack(level=0)\n",
    ")\n",
    "table.index = table.index.droplevel(0)\n",
    "table.loc[TAXA, ['ME', 'MAE', 'RMSE', 'R2']]"
   ]
  },
  {
   "cell_type": "markdown",
   "metadata": {},
   "source": [
    "## Test: True vs. Predicted"
   ]
  },
  {
   "cell_type": "code",
   "execution_count": null,
   "metadata": {},
   "outputs": [],
   "source": [
    "test = tf.data.Dataset.load(str(DATA_DIR/'test'))\n",
    "test = test.batch(test.cardinality())\n",
    "_, y = next(test.as_numpy_iterator())"
   ]
  },
  {
   "cell_type": "code",
   "execution_count": null,
   "metadata": {},
   "outputs": [],
   "source": [
    "y_hat = {\n",
    "    model.outputs[i].node.layer.name: item\n",
    "    for i, item in enumerate(model.predict(test, verbose=0))\n",
    "}"
   ]
  },
  {
   "cell_type": "code",
   "execution_count": null,
   "metadata": {},
   "outputs": [],
   "source": [
    "test = xr.merge(\n",
    "    (\n",
    "        xr.Dataset(\n",
    "            {f'{i}_presence_hat': (('pxl',), y_hat[f'presence_{i}'].flatten()) for i in TAXA}\n",
    "        ),\n",
    "        xr.Dataset(\n",
    "            {f'{i}_hat': (('pxl',), (\n",
    "                (y_hat[f'abundance_{i}'] * (y_hat[f'presence_{i}'] > 0)).flatten()\n",
    "            )) for i in TAXA}\n",
    "        ),\n",
    "        xr.Dataset(\n",
    "            {i: (('pxl',), y[f'abundance_{i}']) for i in TAXA}\n",
    "        )\n",
    "    )\n",
    ")\n",
    "# test.max()"
   ]
  },
  {
   "cell_type": "code",
   "execution_count": null,
   "metadata": {},
   "outputs": [],
   "source": []
  },
  {
   "cell_type": "code",
   "execution_count": null,
   "metadata": {},
   "outputs": [],
   "source": [
    "x =  np.array([ 1, -4, 32, -2,  5])\n",
    "y =  np.array([ 0,  0,  1,  1,  1])\n",
    "\n",
    "order = x.argsort()\n",
    "fn = np.insert(y[order].cumsum(), 0, 0) # false negative count\n",
    "p = fn[-1]\n",
    "n = len(x) - p\n",
    "\n",
    "tn = np.arange(len(fn)) - fn\n",
    "tpr = 1 - fn / p\n",
    "fpr = 1 - tn / n\n",
    "#hv.Curve((fpr, tpr)).opts(padding=0.05)"
   ]
  },
  {
   "cell_type": "code",
   "execution_count": null,
   "metadata": {},
   "outputs": [],
   "source": [
    "n = test.sizes['pxl']\n",
    "order = test['dia_presence_hat'].argsort()\n",
    "result = (test['dia'] > 0)[order]\n",
    "rate = result.cumsum() / n"
   ]
  },
  {
   "cell_type": "code",
   "execution_count": null,
   "metadata": {},
   "outputs": [],
   "source": [
    "hexbin(test)"
   ]
  },
  {
   "cell_type": "code",
   "execution_count": null,
   "metadata": {},
   "outputs": [],
   "source": [
    "hexbin(np.log10(test))"
   ]
  },
  {
   "cell_type": "code",
   "execution_count": null,
   "metadata": {},
   "outputs": [],
   "source": []
  }
 ],
 "metadata": {
  "language_info": {
   "name": "python"
  }
 },
 "nbformat": 4,
 "nbformat_minor": 4
}
