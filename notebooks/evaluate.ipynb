{
 "cells": [
  {
   "cell_type": "code",
   "execution_count": null,
   "metadata": {},
   "outputs": [],
   "source": [
    "import os\n",
    "import json\n",
    "os.environ['TF_CPP_MIN_LOG_LEVEL'] = '3'\n",
    "\n",
    "import holoviews as hv\n",
    "import hvplot.xarray\n",
    "import numpy as np\n",
    "import pandas as pd\n",
    "import tensorflow as tf\n",
    "import xarray as xr\n",
    "\n",
    "from re_nobm_pcc.kit import DATA_DIR, TAXA\n",
    "\n",
    "hv.extension('bokeh', logo=False)"
   ]
  },
  {
   "cell_type": "markdown",
   "metadata": {},
   "source": [
    "## Model"
   ]
  },
  {
   "cell_type": "code",
   "execution_count": null,
   "metadata": {},
   "outputs": [],
   "source": [
    "model = tf.keras.models.load_model(DATA_DIR/'model')"
   ]
  },
  {
   "cell_type": "code",
   "execution_count": null,
   "metadata": {},
   "outputs": [],
   "source": [
    "model.summary()"
   ]
  },
  {
   "cell_type": "markdown",
   "metadata": {},
   "source": [
    "## Loss by Epoch"
   ]
  },
  {
   "cell_type": "code",
   "execution_count": null,
   "metadata": {},
   "outputs": [],
   "source": [
    "(\n",
    "    xr.Dataset({\n",
    "        k: ('epoch', v) for k, v in np.load(DATA_DIR/'fit.npz').items()\n",
    "    })\n",
    "    .hvplot.line(\n",
    "        x='epoch',\n",
    "        y=['loss', 'val_loss'],\n",
    "        logy=True,\n",
    "        ylabel=model.loss.name,\n",
    "    )\n",
    ")"
   ]
  },
  {
   "cell_type": "markdown",
   "metadata": {},
   "source": [
    "## Test: Metrics"
   ]
  },
  {
   "cell_type": "code",
   "execution_count": null,
   "metadata": {},
   "outputs": [],
   "source": [
    "with (DATA_DIR/'metrics.json').open() as stream:\n",
    "    metrics = json.load(stream)\n",
    "del metrics['loss']\n",
    "table = (\n",
    "    pd.DataFrame.from_dict(\n",
    "        {tuple(k.split('_')): [v] for k, v in metrics.items()},\n",
    "        orient='columns',\n",
    "    )\n",
    "    .stack(level=0)\n",
    ")\n",
    "table.index = table.index.droplevel(0)\n",
    "table.loc[TAXA, ['ME', 'MAE', 'RMSE', 'R2']]"
   ]
  },
  {
   "cell_type": "markdown",
   "metadata": {},
   "source": [
    "## Test: Correlations"
   ]
  },
  {
   "cell_type": "code",
   "execution_count": null,
   "metadata": {},
   "outputs": [],
   "source": [
    "test = tf.data.Dataset.load(str(DATA_DIR/'test'))\n",
    "test = test.batch(test.cardinality())\n",
    "_, y = next(test.as_numpy_iterator())"
   ]
  },
  {
   "cell_type": "code",
   "execution_count": null,
   "metadata": {},
   "outputs": [],
   "source": [
    "y_hat = model.predict(test, verbose=0)"
   ]
  },
  {
   "cell_type": "code",
   "execution_count": null,
   "metadata": {},
   "outputs": [],
   "source": [
    "test = xr.merge(\n",
    "    (\n",
    "        xr.Dataset({f'{item}_hat': (('pxl',), y_hat[i].flatten()) for i, item in enumerate(TAXA)}),\n",
    "        xr.Dataset({f'{item}': (('pxl',), y[i]) for i, item in enumerate(TAXA)})\n",
    "    )\n",
    ")\n",
    "test.min()"
   ]
  },
  {
   "cell_type": "markdown",
   "metadata": {},
   "source": [
    "### True vs. Pred"
   ]
  },
  {
   "cell_type": "code",
   "execution_count": null,
   "metadata": {},
   "outputs": [],
   "source": [
    "logtest = np.log10(test)\n",
    "plots = {}\n",
    "for item in TAXA:\n",
    "    plots[item] = (\n",
    "        hv.HexTiles(\n",
    "            data=(logtest[item], logtest[f'{item}_hat']),\n",
    "            kdims=['y', 'y_hat'],\n",
    "        ).opts(shared_axes=False, cmap='greens', bgcolor='lightskyblue', tools=['hover'], padding=0.001)\n",
    "        *hv.Slope(1, 0).opts(shared_axes=False, color='darkorange', line_width=1)\n",
    "    )\n",
    "hv.output(size=150)\n",
    "(\n",
    "    hv.HoloMap(plots, kdims='group').opts(shared_axes=False).layout().cols(2)\n",
    ")"
   ]
  },
  {
   "cell_type": "markdown",
   "metadata": {},
   "source": [
    "### True > 10e-5  vs Pred"
   ]
  },
  {
   "cell_type": "code",
   "execution_count": null,
   "metadata": {},
   "outputs": [],
   "source": [
    "zoomtest = np.log10(test.where(test > 10e-5))\n",
    "plots = {}\n",
    "for item in TAXA:\n",
    "    plots[item] = (\n",
    "        hv.HexTiles(\n",
    "            data=(zoomtest[item], zoomtest[f'{item}_hat']),\n",
    "            kdims=['y', 'y_hat'],\n",
    "        ).opts(shared_axes=False, cmap='greens', bgcolor='lightskyblue', tools=['hover'], padding=0.001)\n",
    "        *hv.Slope(1, 0).opts(shared_axes=False, color='darkorange', line_width=1)\n",
    "    )\n",
    "hv.output(size=150)\n",
    "(\n",
    "    hv.HoloMap(plots, kdims='group').opts(shared_axes=False).layout().cols(2)\n",
    ")"
   ]
  },
  {
   "cell_type": "code",
   "execution_count": null,
   "metadata": {},
   "outputs": [],
   "source": []
  }
 ],
 "metadata": {
  "language_info": {
   "name": "python"
  }
 },
 "nbformat": 4,
 "nbformat_minor": 4
}
