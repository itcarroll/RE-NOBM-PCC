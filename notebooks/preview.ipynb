{
 "cells": [
  {
   "cell_type": "code",
   "execution_count": null,
   "metadata": {},
   "outputs": [],
   "source": [
    "import importlib\n",
    "import os\n",
    "\n",
    "from IPython.display import Markdown\n",
    "from scipy.stats import zscore\n",
    "import holoviews as hv\n",
    "import hvplot.xarray\n",
    "import numpy as np\n",
    "import pandas as pd\n",
    "import xarray as xr\n",
    "\n",
    "from re_nobm_pcc import preprocess\n",
    "from re_nobm_pcc import kit"
   ]
  },
  {
   "cell_type": "code",
   "execution_count": null,
   "metadata": {},
   "outputs": [],
   "source": [
    "preprocess = importlib.reload(preprocess)\n",
    "kit = importlib.reload(kit)\n",
    "HyperLwn = preprocess.HyperLwn\n",
    "PhytoChl = preprocess.PhytoChl\n",
    "\n",
    "sample = xr.open_dataset(kit.DATA_DIR/'sample.nc')\n",
    "sample_z = (sample - sample.mean('pxl')) #/sample.std('pxl')"
   ]
  },
  {
   "cell_type": "markdown",
   "metadata": {
    "id": "jJHNBVEGkHyW"
   },
   "source": [
    "# Data Summary"
   ]
  },
  {
   "cell_type": "markdown",
   "metadata": {
    "id": "OUK41jPxQHeT"
   },
   "source": [
    "## Datasets"
   ]
  },
  {
   "cell_type": "markdown",
   "metadata": {
    "id": "uZUWOMYQgYBK"
   },
   "source": [
    "The features and labels are both model output from NASA GMAO using the [NOBM and OASIM](https://gmao.gsfc.nasa.gov/gmaoftp/NOBM) models. The labels are four phytoplankton chlorophyll densities output by NOBM. The features are normalized water leaving radiances output by OASIM, using the NOBM model as input."
   ]
  },
  {
   "cell_type": "markdown",
   "metadata": {
    "id": "Y0gHiexEgq3T"
   },
   "source": [
    "### Features"
   ]
  },
  {
   "cell_type": "markdown",
   "metadata": {
    "id": "1CNGKtURguXF"
   },
   "source": [
    "One NetCDF file contains all the predictor data. Note that the `FillValue` attribute is not set to `9.99e11` in the netCDF file (Cecile will fix in next version). There are no explicit coordinates given; they are documented as attributes."
   ]
  },
  {
   "cell_type": "code",
   "execution_count": null,
   "metadata": {},
   "outputs": [],
   "source": [
    "os.chdir(os.environ['PWD'])"
   ]
  },
  {
   "cell_type": "code",
   "execution_count": null,
   "metadata": {},
   "outputs": [],
   "source": [
    "!ncdump -h data/nobm/HyperLwn.R2014.nc4"
   ]
  },
  {
   "cell_type": "code",
   "execution_count": null,
   "metadata": {},
   "outputs": [],
   "source": [
    "nonnull = int(HyperLwn.size - HyperLwn.isnull().sum())\n",
    "Markdown(f\"\"\"\n",
    "Augmented with coordinates, variable `HyperLwn` is a xarray.DataArray with {nonnull:,} values.\n",
    "\"\"\")"
   ]
  },
  {
   "cell_type": "code",
   "execution_count": null,
   "metadata": {},
   "outputs": [],
   "source": [
    "HyperLwn"
   ]
  },
  {
   "cell_type": "markdown",
   "metadata": {
    "id": "EpkjtJG-iRTW"
   },
   "source": [
    "### Labels"
   ]
  },
  {
   "cell_type": "markdown",
   "metadata": {
    "id": "TFz1ooc6iaCY"
   },
   "source": [
    "Each of twelve NetCDF files contain a month of NOBM model output. The first is representative. Unlike the HyperLwn file, this one contains coordinates."
   ]
  },
  {
   "cell_type": "code",
   "execution_count": null,
   "metadata": {},
   "outputs": [],
   "source": [
    "!ncdump -h data/nobm/monthly/mon200701.R2014.nc4"
   ]
  },
  {
   "cell_type": "markdown",
   "metadata": {},
   "source": [
    "The `PhytoChl` xarray.DataArray includes the different phytoplankton groups along a 'component' dimension."
   ]
  },
  {
   "cell_type": "code",
   "execution_count": null,
   "metadata": {},
   "outputs": [],
   "source": [
    "PhytoChl"
   ]
  },
  {
   "cell_type": "markdown",
   "metadata": {
    "id": "FLvJkZOpjPzn"
   },
   "source": [
    "## Plot your data"
   ]
  },
  {
   "cell_type": "markdown",
   "metadata": {
    "id": "UaHaKBVujTGO"
   },
   "source": [
    "### Features"
   ]
  },
  {
   "cell_type": "markdown",
   "metadata": {},
   "source": [
    "The radiances currently make a nice map, but the data should be more sparsely sampled."
   ]
  },
  {
   "cell_type": "code",
   "execution_count": null,
   "metadata": {},
   "outputs": [],
   "source": [
    "(\n",
    "    HyperLwn\n",
    "    .sel(wavelength=[465, 665], method='nearest')\n",
    "    .mean(dim='month')\n",
    "    .hvplot.image(by='wavelength', subplots=True, clabel='Lwn')\n",
    "    .cols(1)\n",
    "    .opts(title='Time average radiances near chl-a peaks')\n",
    ")"
   ]
  },
  {
   "cell_type": "markdown",
   "metadata": {},
   "source": [
    "A few \"typical\" hyperspectral radiances."
   ]
  },
  {
   "cell_type": "code",
   "execution_count": null,
   "metadata": {},
   "outputs": [],
   "source": [
    "(\n",
    "    HyperLwn\n",
    "    .sel({'lon': -120, 'lat': -15, 'month': [1, 4, 7, 10]}, method='nearest')\n",
    "    .hvplot\n",
    "    .line(by='month', ylabel='Lwn')\n",
    "    .opts(title='Radiances at one pixel over different months')\n",
    ")"
   ]
  },
  {
   "cell_type": "code",
   "execution_count": null,
   "metadata": {},
   "outputs": [],
   "source": [
    "(\n",
    "    sample_z['features'].isel(pxl=slice(0, 10))\n",
    "    .hvplot.line(x='wavelength', by='pxl', legend=False)\n",
    "    .opts(title='A sample of mean centered radiances')\n",
    ")"
   ]
  },
  {
   "cell_type": "markdown",
   "metadata": {},
   "source": [
    "SVD to reduce the wavelength dimension to `k` vectors accounting for the most variation in the features. The singular values are:"
   ]
  },
  {
   "cell_type": "code",
   "execution_count": null,
   "metadata": {},
   "outputs": [],
   "source": [
    "k = 5\n",
    "scores, s, vectors = kit.svd(sample_z['features'], dim='wavelength', k=k)\n",
    "list(s.round(6))"
   ]
  },
  {
   "cell_type": "markdown",
   "metadata": {},
   "source": [
    "The corresponding vectors:"
   ]
  },
  {
   "cell_type": "code",
   "execution_count": null,
   "metadata": {},
   "outputs": [],
   "source": [
    "vectors.hvplot.line(x='wavelength', by='pc')"
   ]
  },
  {
   "cell_type": "markdown",
   "metadata": {},
   "source": [
    "A matrix of univariate (diagonal) and bivariate (off-diagonal) histograms of the `scores`, or coefficients generating each wavelength by linear combination of the `vectors` above."
   ]
  },
  {
   "cell_type": "code",
   "execution_count": null,
   "metadata": {},
   "outputs": [],
   "source": [
    "(\n",
    "    hvplot.scatter_matrix(\n",
    "        scores.to_dataset(dim='pc').to_dataframe(),\n",
    "        chart='hexbin',\n",
    "        gridsize=16,\n",
    "    )\n",
    "    .opts(hv.opts.HexTiles(cmap='Viridis', tools=['hover']))\n",
    ")"
   ]
  },
  {
   "cell_type": "markdown",
   "metadata": {
    "id": "uEXjgfVPjspm"
   },
   "source": [
    "### Labels"
   ]
  },
  {
   "cell_type": "markdown",
   "metadata": {},
   "source": [
    "A map of the phytoplankton labels in `PhytoChl` at one month. Since we can map we map..."
   ]
  },
  {
   "cell_type": "code",
   "execution_count": null,
   "metadata": {},
   "outputs": [],
   "source": [
    "(\n",
    "    PhytoChl\n",
    "    .sel(month=[4])\n",
    "    .hvplot.image(by=['month', 'component'], subplots=True, clabel='chl-a')\n",
    "    .cols(1)\n",
    ")"
   ]
  },
  {
   "cell_type": "markdown",
   "metadata": {
    "id": "NW8LyY-OjxwH"
   },
   "source": [
    "- try different log bases\n",
    "- pca ideas for independent response variable? embedding on output?"
   ]
  },
  {
   "cell_type": "markdown",
   "metadata": {},
   "source": [
    "The distribution of the four phytoplankton groups."
   ]
  },
  {
   "cell_type": "code",
   "execution_count": null,
   "metadata": {},
   "outputs": [],
   "source": [
    "sample['labels_p'] = (sample['labels'].dims, kit.ecdf(sample['labels']))\n",
    "(\n",
    "    sample[['labels', 'labels_p']]\n",
    "    .hvplot\n",
    "#    .line(x='labels', y='labels_p', by='component')\n",
    "#    .opts(hv.opts.Curve(interpolation='steps-pre'))\n",
    "    .scatter(x='labels', y='labels_p', by='component', xlabel='chl-a', ylabel='probability')\n",
    "    .opts(title='ECDF of phytoplankton by component')\n",
    ")"
   ]
  },
  {
   "cell_type": "code",
   "execution_count": null,
   "metadata": {},
   "outputs": [],
   "source": [
    "scores, s, vectors = kit.svd(sample_z['labels'], dim='component')\n",
    "s"
   ]
  },
  {
   "cell_type": "code",
   "execution_count": null,
   "metadata": {},
   "outputs": [],
   "source": [
    "np.cov(scores, rowvar=False).round(8)"
   ]
  },
  {
   "cell_type": "code",
   "execution_count": null,
   "metadata": {},
   "outputs": [],
   "source": [
    "labels = xr.Dataset({\n",
    "    'scores': scores,\n",
    "    'scores_p': (scores.dims, kit.ecdf(scores)),\n",
    "})\n",
    "(\n",
    "    labels[['scores', 'scores_p']]\n",
    "    .hvplot\n",
    "#    .line(x='labels', y='labels_p', by='component')\n",
    "#    .opts(hv.opts.Curve(interpolation='steps-pre'))\n",
    "    .scatter(x='scores', y='scores_p', by='pc', xlabel='score', ylabel='probability')\n",
    "    .opts(title='ECDF of phytoplankton PCA by component')\n",
    ")"
   ]
  },
  {
   "cell_type": "code",
   "execution_count": null,
   "metadata": {},
   "outputs": [],
   "source": [
    "(\n",
    "    hvplot.scatter_matrix(\n",
    "        scores.to_dataset(dim='pc').to_dataframe(),\n",
    "        chart='hexbin',\n",
    "        gridsize=16,\n",
    "    )\n",
    "    .opts(hv.opts.HexTiles(cmap='Viridis', tools=['hover']))\n",
    ")"
   ]
  }
 ],
 "metadata": {
  "language_info": {
   "name": "python"
  }
 },
 "nbformat": 4,
 "nbformat_minor": 4
}
